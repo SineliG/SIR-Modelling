{
 "cells": [
  {
   "cell_type": "code",
   "execution_count": null,
   "metadata": {},
   "outputs": [],
   "source": [
    "import matplotlib.pyplot as pyplot \n",
    "import numpy as np \n",
    "import numpy.random as random \n",
    "import scipy.optimize as optimize \n",
    "import scipy.integrate as integrate "
   ]
  },
  {
   "cell_type": "code",
   "execution_count": null,
   "metadata": {},
   "outputs": [],
   "source": [
    "def SIR(): \n",
    "\n",
    "    t = np.linspace(0,int(1e2),int(1e5))\n",
    "    \n",
    "    beta = 0.001\n",
    "    alpha = 0.90\n",
    "    Lambda = 20\n",
    "    gamma = 0.001\n",
    "    \n",
    "    def dS_dt(I,S,t):\n",
    "        return(-beta*S*I + Lambda - (gamma/3)*S)\n",
    "    \n",
    "    def dI_dt(I,S,t):\n",
    "        return(beta*S*I - (gamma/3)*I - alpha*I)\n",
    "    \n",
    "    def dR_dt(I,R,t):\n",
    "        return(alpha*I - (gamma/3)*R)\n",
    "    \n",
    "    def dN_dt(N,t):\n",
    "        S,I,R = N\n",
    "        return([dS_dt(I,S,t), \n",
    "                dI_dt(I,S,t),\n",
    "                dR_dt(I,R,t)])\n",
    "    \n",
    "    N_0 = [1000,10,0]\n",
    "    t = np.linspace(0,int(1e2),int(1e5))\n",
    "    N_fit = integrate.odeint(dN_dt, N_0, t = t)\n",
    "    \n",
    "    Ss = N_fit[:,0]\n",
    "    Is = N_fit[:,1]\n",
    "    Rs = N_fit[:,2]\n",
    "    \n",
    "    return(Ss,Is,Rs)"
   ]
  },
  {
   "cell_type": "code",
   "execution_count": null,
   "metadata": {},
   "outputs": [],
   "source": [
    "def SIR2(): \n",
    "\n",
    "    beta = 0.001\n",
    "    alpha = 0.15\n",
    "    t = np.linspace(0,50,2000)\n",
    "\n",
    "    def SIR_sys(T,t):\n",
    "        S,I,R,C = T\n",
    "        sys = np.array([-beta*S*I,\n",
    "                        beta*S*I - alpha*I,\n",
    "                        alpha*I,\n",
    "                        2000*1.03*np.max([I-500,0])])\n",
    "        return(sys)\n",
    "    \n",
    "    N_0 = [1000,1,0,0]\n",
    "    \n",
    "    N_fit = integrate.odeint(SIR_sys, N_0, t)\n",
    "    \n",
    "    Ss = N_fit[:,0]\n",
    "    Is = N_fit[:,1]\n",
    "    Rs = N_fit[:,2]\n",
    "    Ls = N_fit[:,3]\n",
    "    \n",
    "    loan = float(N_fit[-2:-1,3])\n",
    "    \n",
    "    return(loan)"
   ]
  }
 ],
 "metadata": {
  "kernelspec": {
   "display_name": "Python 3",
   "language": "python",
   "name": "python3"
  },
  "language_info": {
   "codemirror_mode": {
    "name": "ipython",
    "version": 3
   },
   "file_extension": ".py",
   "mimetype": "text/x-python",
   "name": "python",
   "nbconvert_exporter": "python",
   "pygments_lexer": "ipython3",
   "version": "3.8.3"
  }
 },
 "nbformat": 4,
 "nbformat_minor": 4
}
